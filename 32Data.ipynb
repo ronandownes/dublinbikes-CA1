{
 "cells": [
  {
   "cell_type": "markdown",
   "metadata": {
    "collapsed": true
   },
   "source": [
    "#  Dublin Bikes -  Occupancy Download Data"
   ]
  },
  {
   "cell_type": "code",
   "execution_count": 6,
   "metadata": {},
   "outputs": [],
   "source": [
    "#Environment setup and common libraries\n",
    "\n",
    "import pandas as pd\n",
    "import numpy as np\n",
    "import warnings\n",
    "import time\n",
    "import datetime as dt\n",
    "warnings.filterwarnings('ignore')\n",
    "import matplotlib.pyplot as plt\n",
    "import urllib\n",
    "import folium\n",
    "#import sklearn\n",
    "import seaborn as sns\n",
    "import os\n",
    "#from sklearn.model_selection import train_test_split\n",
    "from matplotlib import pyplot as plt\n",
    "#from sklearn.cluster import KMeans\n",
    "# from matplotlib import inline\n",
    "from ipywidgets import interact, interact_manual\n"
   ]
  },
  {
   "cell_type": "code",
   "execution_count": 7,
   "metadata": {},
   "outputs": [],
   "source": [
    "# Prepares a dedicated data directory and pandas dataframe filenames\n",
    "if not os.path.exists(\"data\"):\n",
    "    os.makedirs(\"data\")\n",
    "dataframes = [\n",
    "    (\n",
    "        \"data/dublinbikes_20190101_20190401.csv\",\n",
    "        \"https://data.smartdublin.ie/dataset/33ec9fe2-4957-4e9a-ab55-c5e917c7a9ab/resource/538165d7-535e-4e1d-909a-1c1bfae901c5/download/dublinbikes_20190101_20190401.csv\",\n",
    "    ),\n",
    "    (\n",
    "        \"data/dublinbikes_20190401_20190701.csv\",\n",
    "        \"https://data.smartdublin.ie/dataset/33ec9fe2-4957-4e9a-ab55-c5e917c7a9ab/resource/76fdda3d-d8be-441b-92dd-0ee36d9c5316/download/dublinbikes_20190401_20190701.csv\",\n",
    "    ),\n",
    "    (\n",
    "        \"data/dublinbikes_20190701_20191001.csv\",\n",
    "        \"https://data.smartdublin.ie/dataset/33ec9fe2-4957-4e9a-ab55-c5e917c7a9ab/resource/305d39ac-b6a0-4216-a535-0ae2ddf59819/download/dublinbikes_20190701_20191001.csv\",\n",
    "    ),\n",
    "    (\n",
    "        \"data/dublinbikes_20191001_20200101.csv\",\n",
    "        \"https://data.smartdublin.ie/dataset/33ec9fe2-4957-4e9a-ab55-c5e917c7a9ab/resource/5d23332e-4f49-4c41-b6a0-bffb77b33d64/download/dublinbikes_20191001_20200101.csv\",\n",
    "    ),\n",
    "]\n",
    "bikes_df = \"data/bikes.csv\"\n",
    "weather_df = \"data/weather.csv\""
   ]
  },
  {
   "cell_type": "code",
   "execution_count": 11,
   "metadata": {},
   "outputs": [],
   "source": [
    "# Retrieve data functions for  Dublin bikes and  the Irish Meteorological Society websites \n",
    "for item in dataframes:\n",
    "    if os.path.exists(item[0]):\n",
    "        continue\n",
    "    print(f\"Downloading {item[0]} from {item[1]}\")\n",
    "    urllib.request.urlretrieve(item[1], item[0])\n",
    "def retrieve_weather():\n",
    "    weather_url = \"http://cli.fusio.net/cli/climate_data/webdata/hly175.csv\"\n",
    "    urllib.request.urlretrieve(weather_url, weather_df)"
   ]
  },
  {
   "cell_type": "code",
   "execution_count": 12,
   "metadata": {},
   "outputs": [],
   "source": [
    "#Conditionally calls  retrieval functions if CSVs are not in place in the\"data\" directory\n",
    "if not os.path.exists(weather_df):\n",
    "    retrieve_weather()"
   ]
  },
  {
   "cell_type": "code",
   "execution_count": 14,
   "metadata": {},
   "outputs": [],
   "source": [
    "# Read and concatenate quarterly bike data and read weather data for Phoinex Park from the Irish Meteorological Society website\n",
    "bikes_df = \"data/bikes.csv\"\n",
    "weather_df = pd.read_csv(\"data/weather.csv\", skiprows=15)\n",
    "bikes_df = pd.concat([pd.read_csv(item[0]) for item in dataframes])\n",
    "\n",
    "if not os.path.exists(\"data/bikes.csv\"):\n",
    "    bikes_df.to_csv(\"data/bikes.csv\", index=False)"
   ]
  },
  {
   "cell_type": "code",
   "execution_count": 15,
   "metadata": {},
   "outputs": [],
   "source": [
    "# #merges the  four quarterly dataframes to one  2019 Dataframe and samples outcome\n",
    "\n",
    "# df_2019= pd.concat([q1_df,q2_df, q3_df,q4_df])\n",
    "# df_2019.sample(11)"
   ]
  },
  {
   "cell_type": "code",
   "execution_count": 16,
   "metadata": {},
   "outputs": [],
   "source": [
    "\n",
    "\n",
    "\n",
    "#Saving the consolidated DataFrame to csv for next steps. \n",
    "\n",
    "\n",
    "    \n"
   ]
  },
  {
   "cell_type": "code",
   "execution_count": 17,
   "metadata": {},
   "outputs": [],
   "source": [
    "df_2019= None\n",
    "# Free up system memory\n",
    "# Please proceed to the 'cleaning' notebook "
   ]
  },
  {
   "cell_type": "code",
   "execution_count": null,
   "metadata": {},
   "outputs": [],
   "source": []
  }
 ],
 "metadata": {
  "kernelspec": {
   "display_name": "Python 3.10.8 64-bit",
   "language": "python",
   "name": "python3"
  },
  "language_info": {
   "codemirror_mode": {
    "name": "ipython",
    "version": 3
   },
   "file_extension": ".py",
   "mimetype": "text/x-python",
   "name": "python",
   "nbconvert_exporter": "python",
   "pygments_lexer": "ipython3",
   "version": "3.10.8"
  },
  "vscode": {
   "interpreter": {
    "hash": "4e1d9a8909477db77738c33245c29c7265277ef753467dede8cf3f814cde494e"
   }
  }
 },
 "nbformat": 4,
 "nbformat_minor": 2
}
