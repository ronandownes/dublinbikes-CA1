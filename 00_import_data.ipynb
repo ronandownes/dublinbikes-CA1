{
 "cells": [
  {
   "cell_type": "markdown",
   "id": "dc3ef307",
   "metadata": {},
   "source": [
    "# Dublin Bikes - Download Data\n",
    "\n",
    "This notebook downloads and consolidates a years worth of bike and dock availability in quarterly csv files. Data points are recorded every 10 minutes.  They are consolidated into a single csv file. The dataset is freely provided by the [Smart Dublin](https://data.smartdublin.ie/dataset/dublinbikes-api) website. It also downloads weather data from  the [Smart Dublin](https://data.smartdublin.ie/dataset/dublinbikes-api) website.\n",
    "\n",
    "\n",
    "## We start  by grapping  five required datasets "
   ]
  },
  {
   "cell_type": "code",
   "execution_count": 1,
   "id": "5db3cb11",
   "metadata": {},
   "outputs": [],
   "source": [
    "#Setup and common libraries\n",
    "\n",
    "import pandas as pd\n",
    "import numpy as np\n",
    "import warnings\n",
    "import time\n",
    "import datetime as dt\n",
    "warnings.filterwarnings('ignore')\n",
    "import matplotlib.pyplot as plt\n",
    "import urllib\n",
    "import folium\n",
    "#import sklearn\n",
    "import seaborn as sns\n",
    "import os\n",
    "#from sklearn.model_selection import train_test_split\n",
    "from matplotlib import pyplot as plt\n",
    "#from sklearn.cluster import KMeans\n",
    "# from matplotlib import inline\n",
    "from ipywidgets import interact, interact_manual"
   ]
  },
  {
   "cell_type": "code",
   "execution_count": 2,
   "id": "44e8c3a3",
   "metadata": {},
   "outputs": [],
   "source": [
    "# Prepares the data directory and importing two datasets and names for quarterly bike and weather\n",
    "#  and associates quarterly csv filenames ahead of concatenaion and merging\n",
    "if not os.path.exists(\"data\"):\n",
    "    os.makedirs(\"data\")"
   ]
  },
  {
   "cell_type": "markdown",
   "id": "1648abd1",
   "metadata": {},
   "source": [
    "## Defines a list of tuples with ordered pairs of filenames and retrieval urls. Dublin Bikes provide their data on a quarterly basis"
   ]
  },
  {
   "cell_type": "code",
   "execution_count": null,
   "id": "4ae0e05b",
   "metadata": {},
   "outputs": [],
   "source": [
    "#\n",
    "\n",
    "dataframes = [\n",
    "    (\n",
    "        \"data/dublinbikes_20190101_20190401.csv\",\n",
    "        \"https://data.smartdublin.ie/dataset/33ec9fe2-4957-4e9a-ab55-c5e917c7a9ab/resource/538165d7-535e-4e1d-909a-1c1bfae901c5/download/dublinbikes_20190101_20190401.csv\",\n",
    "    ),\n",
    "    (\n",
    "        \"data/dublinbikes_20190401_20190701.csv\",\n",
    "        \"https://data.smartdublin.ie/dataset/33ec9fe2-4957-4e9a-ab55-c5e917c7a9ab/resource/76fdda3d-d8be-441b-92dd-0ee36d9c5316/download/dublinbikes_20190401_20190701.csv\",\n",
    "    ),\n",
    "    (\n",
    "        \"data/dublinbikes_20190701_20191001.csv\",\n",
    "        \"https://data.smartdublin.ie/dataset/33ec9fe2-4957-4e9a-ab55-c5e917c7a9ab/resource/305d39ac-b6a0-4216-a535-0ae2ddf59819/download/dublinbikes_20190701_20191001.csv\",\n",
    "    ),\n",
    "    (\n",
    "        \"data/dublinbikes_20191001_20200101.csv\",\n",
    "        \"https://data.smartdublin.ie/dataset/33ec9fe2-4957-4e9a-ab55-c5e917c7a9ab/resource/5d23332e-4f49-4c41-b6a0-bffb77b33d64/download/dublinbikes_20191001_20200101.csv\",\n",
    "    ),\n",
    "]"
   ]
  },
  {
   "cell_type": "markdown",
   "id": "c5072ac5",
   "metadata": {},
   "source": [
    "## Define the names and locations of the consolidated Bike and Dock availability csv and the weather csv."
   ]
  },
  {
   "cell_type": "code",
   "execution_count": 3,
   "id": "abec9cf7",
   "metadata": {},
   "outputs": [],
   "source": [
    "bikes_df = \"data/bikes.csv\"\n",
    "weather_df = \"data/weather.csv\""
   ]
  },
  {
   "cell_type": "code",
   "execution_count": 4,
   "id": "bcaef31f",
   "metadata": {},
   "outputs": [],
   "source": [
    "# Retrieve data functions for historical weather data from the Irish Meteorological Society websites \n",
    "for item in dataframes:\n",
    "    if os.path.exists(item[0]):\n",
    "        continue\n",
    "    print(f\"Downloading {item[0]} from {item[1]}\")\n",
    "    urllib.request.urlretrieve(item[1], item[0])\n",
    "    \n",
    "def retrieve_weather():\n",
    "    weather_url = \"http://cli.fusio.net/cli/climate_data/webdata/hly175.csv\"\n",
    "    urllib.request.urlretrieve(weather_url, weather_df)\n",
    "    #Conditionally calls  retrieval functions if CSVs are not in place in the\"data\" directory\n",
    "    \n",
    "if not os.path.exists(weather_df):\n",
    "    retrieve_weather()"
   ]
  },
  {
   "cell_type": "code",
   "execution_count": 5,
   "id": "d00c89c2",
   "metadata": {},
   "outputs": [],
   "source": [
    "#Conditionally calls  weather retrieval function\n",
    "if not os.path.exists(weather_df):\n",
    "    retrieve_weather()"
   ]
  },
  {
   "cell_type": "code",
   "execution_count": 6,
   "id": "9d6bb0ee",
   "metadata": {},
   "outputs": [],
   "source": [
    "# Read and concatenate quarterly bike data dataframes from  \n",
    "# Read  Phoinex Park weather data from the Irish Meteorological Society website\n",
    "bikes_df = \"data/bikes.csv\"\n",
    "weather_df = pd.read_csv(\"data/weather.csv\", skiprows=15)\n",
    "bikes_df = pd.concat([pd.read_csv(item[0]) for item in dataframes])\n",
    "\n",
    "if not os.path.exists(\"data/bikes.csv\"):\n",
    "    bikes_df.to_csv(\"data/bikes.csv\", index=False)\n",
    "    \n",
    "    \n",
    "    \n",
    "bikes_df= None\n",
    "weather_df=None"
   ]
  }
 ],
 "metadata": {
  "kernelspec": {
   "display_name": "Python 3 (ipykernel)",
   "language": "python",
   "name": "python3"
  },
  "language_info": {
   "codemirror_mode": {
    "name": "ipython",
    "version": 3
   },
   "file_extension": ".py",
   "mimetype": "text/x-python",
   "name": "python",
   "nbconvert_exporter": "python",
   "pygments_lexer": "ipython3",
   "version": "3.9.12"
  }
 },
 "nbformat": 4,
 "nbformat_minor": 5
}
