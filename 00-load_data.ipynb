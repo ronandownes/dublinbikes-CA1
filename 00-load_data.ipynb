{
 "cells": [
  {
   "cell_type": "markdown",
   "id": "0291b4be",
   "metadata": {},
   "source": [
    "# Dublin Bike CA 1\n",
    "\n",
    "## 1 Data Loading Notebook\n",
    "\n",
    "\n",
    "Ronan Downes | [Github](https://github.com/ronandownes/dublinbikes-CA1) | November 2022 \n",
    "***\n",
    "\n",
    "\n",
    "Downloads  quarterly  Dublin Bike occupancy csv files and a station GPS file  directly from the  [Smart Dublin](https://data.smartdublin.ie/dataset/dublinbikes-api) website. The Phoinex Park (station 175) weather data recorded hourly by the Irish Meteorological Society [Met Éireann](https://www.met.ie/climate/available-data/historical-data) website is also loaded to a generated  \"data\" folder.\n",
    "This avoids errors in filenames and formats along with any variation between operating systems.\n",
    "***"
   ]
  },
  {
   "cell_type": "code",
   "execution_count": 1,
   "id": "4eb61e13",
   "metadata": {},
   "outputs": [],
   "source": [
    "#Setup required  libraries.  \n",
    "import pandas as pd\n",
    "import urllib\n",
    "import os"
   ]
  },
  {
   "cell_type": "code",
   "execution_count": 2,
   "id": "8c6cae99",
   "metadata": {},
   "outputs": [],
   "source": [
    "\n",
    "## Downloading data directly from URL avoids cross-platform and end-user errors \n",
    "\n",
    "if not os.path.exists(\"data\"):\n",
    "    os.makedirs(\"data\")\n",
    "\n",
    "bikes_df = \"data/bikes.csv\"\n"
   ]
  },
  {
   "cell_type": "markdown",
   "id": "204fd1ea",
   "metadata": {},
   "source": [
    "### 1.1 Get Dublin Historical Bike Occupancy Data\n",
    "\n",
    "Retrieve Dublin Bikes data  from  [Smart Dublin](https://data.smartdublin.ie/dataset/dublinbikes-api) "
   ]
  },
  {
   "cell_type": "code",
   "execution_count": 3,
   "id": "4ae0e05b",
   "metadata": {},
   "outputs": [
    {
     "name": "stdout",
     "output_type": "stream",
     "text": [
      "Downloading data/2018_Q3.csv from  https://data.smartdublin.ie/dataset/33ec9fe2-4957-4e9a-ab55-c5e917c7a9ab/resource/9496fac5-e4d7-4ae9-a49a-217c7c4e83d9/download/dublinbikes_20180701_20181001.csv\n",
      "Downloading data/2018_Q4.csv from https://data.smartdublin.ie/dataset/33ec9fe2-4957-4e9a-ab55-c5e917c7a9ab/resource/67ea095f-67ad-47f5-b8f7-044743043848/download/dublinbikes_20181001_20190101.csv\n",
      "Downloading data/2019_Q1.csv from https://data.smartdublin.ie/dataset/33ec9fe2-4957-4e9a-ab55-c5e917c7a9ab/resource/538165d7-535e-4e1d-909a-1c1bfae901c5/download/dublinbikes_20190101_20190401.csv\n",
      "Downloading data/2019_Q2.csv from https://data.smartdublin.ie/dataset/33ec9fe2-4957-4e9a-ab55-c5e917c7a9ab/resource/76fdda3d-d8be-441b-92dd-0ee36d9c5316/download/dublinbikes_20190401_20190701.csv\n",
      "Downloading data/2019_Q3.csv from https://data.smartdublin.ie/dataset/33ec9fe2-4957-4e9a-ab55-c5e917c7a9ab/resource/305d39ac-b6a0-4216-a535-0ae2ddf59819/download/dublinbikes_20190701_20191001.csv\n",
      "Downloading data/2019_Q4.csv from https://data.smartdublin.ie/dataset/33ec9fe2-4957-4e9a-ab55-c5e917c7a9ab/resource/5d23332e-4f49-4c41-b6a0-bffb77b33d64/download/dublinbikes_20191001_20200101.csv\n",
      "Downloading data/2020_Q1.csv from https://data.smartdublin.ie/dataset/33ec9fe2-4957-4e9a-ab55-c5e917c7a9ab/resource/aab12e7d-547f-463a-86b1-e22002884587/download/dublinbikes_20200101_20200401.csv\n",
      "Downloading data/2020_Q2.csv from https://data.smartdublin.ie/dataset/33ec9fe2-4957-4e9a-ab55-c5e917c7a9ab/resource/8ddaeac6-4caf-4289-9835-cf588d0b69e5/download/dublinbikes_20200401_20200701.csv\n",
      "Downloading data/2020_Q3.csv from https://data.smartdublin.ie/dataset/33ec9fe2-4957-4e9a-ab55-c5e917c7a9ab/resource/99a35442-6878-4c2d-8dff-ec43e91d21d7/download/dublinbikes_20200701_20201001.csv\n",
      "Downloading data/2020_Q4.csv from https://data.smartdublin.ie/dataset/33ec9fe2-4957-4e9a-ab55-c5e917c7a9ab/resource/5328239f-bcc6-483d-9c17-87166efc3a1a/download/dublinbikes_20201001_20210101.csv\n",
      "Downloading data/2021_Q1.csv from https://data.smartdublin.ie/dataset/33ec9fe2-4957-4e9a-ab55-c5e917c7a9ab/resource/7987ddc8-674a-4368-b344-560804771b98/download/dublinbikes_20210101_20210401.csv\n",
      "Downloading data/2021_Q2.csv from https://data.smartdublin.ie/dataset/33ec9fe2-4957-4e9a-ab55-c5e917c7a9ab/resource/1c18f219-3885-403e-aa55-4d4c78ee0204/download/dublinbikes_20210401_20210701.csv\n",
      "Downloading data/2021_Q3.csv from https://data.smartdublin.ie/dataset/33ec9fe2-4957-4e9a-ab55-c5e917c7a9ab/resource/91ccfcb7-0c5b-41e4-be1b-e5d35c609638/download/dublinbikes_20210701_20211001.csv\n",
      "Downloading data/2021_Q4.csv from https://data.smartdublin.ie/dataset/33ec9fe2-4957-4e9a-ab55-c5e917c7a9ab/resource/5bc73751-4280-4423-b64d-18f4cc17986d/download/dublinbikes_20211001_20220101.csv\n"
     ]
    }
   ],
   "source": [
    "### Defines a list of tuples with ordered pairs of filenames and retrieval urls for urllib requests later.\n",
    "### The os library checks if the quarterly csv file is already in place and if not it asks the urllib library to retrieve\n",
    "### the csv at that url and name it according to item[0]\n",
    "### Date range can easily be restricted by commenting out tuples.\n",
    "    \n",
    "dataframes = [\n",
    "     (\n",
    "        \"data/2018_Q3.csv\",\n",
    "        \" https://data.smartdublin.ie/dataset/33ec9fe2-4957-4e9a-ab55-c5e917c7a9ab/resource/9496fac5-e4d7-4ae9-a49a-217c7c4e83d9/download/dublinbikes_20180701_20181001.csv\",\n",
    "    ),\n",
    "     (\n",
    "        \"data/2018_Q4.csv\",\n",
    "        \"https://data.smartdublin.ie/dataset/33ec9fe2-4957-4e9a-ab55-c5e917c7a9ab/resource/67ea095f-67ad-47f5-b8f7-044743043848/download/dublinbikes_20181001_20190101.csv\",\n",
    "    ),\n",
    "    (\n",
    "        \"data/2019_Q1.csv\",\n",
    "        \"https://data.smartdublin.ie/dataset/33ec9fe2-4957-4e9a-ab55-c5e917c7a9ab/resource/538165d7-535e-4e1d-909a-1c1bfae901c5/download/dublinbikes_20190101_20190401.csv\",\n",
    "    ),\n",
    "    (\n",
    "        \"data/2019_Q2.csv\",\n",
    "        \"https://data.smartdublin.ie/dataset/33ec9fe2-4957-4e9a-ab55-c5e917c7a9ab/resource/76fdda3d-d8be-441b-92dd-0ee36d9c5316/download/dublinbikes_20190401_20190701.csv\",\n",
    "    ),\n",
    "    (\n",
    "        \"data/2019_Q3.csv\",\n",
    "        \"https://data.smartdublin.ie/dataset/33ec9fe2-4957-4e9a-ab55-c5e917c7a9ab/resource/305d39ac-b6a0-4216-a535-0ae2ddf59819/download/dublinbikes_20190701_20191001.csv\",\n",
    "    ),\n",
    "    (\n",
    "        \"data/2019_Q4.csv\",\n",
    "        \"https://data.smartdublin.ie/dataset/33ec9fe2-4957-4e9a-ab55-c5e917c7a9ab/resource/5d23332e-4f49-4c41-b6a0-bffb77b33d64/download/dublinbikes_20191001_20200101.csv\",\n",
    "    ),\n",
    "            (\n",
    "        \"data/2020_Q1.csv\",\n",
    "        \"https://data.smartdublin.ie/dataset/33ec9fe2-4957-4e9a-ab55-c5e917c7a9ab/resource/aab12e7d-547f-463a-86b1-e22002884587/download/dublinbikes_20200101_20200401.csv\",\n",
    "    ),\n",
    "                (\n",
    "        \"data/2020_Q2.csv\",\n",
    "        \"https://data.smartdublin.ie/dataset/33ec9fe2-4957-4e9a-ab55-c5e917c7a9ab/resource/8ddaeac6-4caf-4289-9835-cf588d0b69e5/download/dublinbikes_20200401_20200701.csv\",\n",
    "    ),\n",
    "                    (\n",
    "        \"data/2020_Q3.csv\",\n",
    "        \"https://data.smartdublin.ie/dataset/33ec9fe2-4957-4e9a-ab55-c5e917c7a9ab/resource/99a35442-6878-4c2d-8dff-ec43e91d21d7/download/dublinbikes_20200701_20201001.csv\",\n",
    "    ),\n",
    "                        (\n",
    "        \"data/2020_Q4.csv\",\n",
    "        \"https://data.smartdublin.ie/dataset/33ec9fe2-4957-4e9a-ab55-c5e917c7a9ab/resource/5328239f-bcc6-483d-9c17-87166efc3a1a/download/dublinbikes_20201001_20210101.csv\",\n",
    "    ),\n",
    "                        (\n",
    "        \"data/2021_Q1.csv\",\n",
    "        \"https://data.smartdublin.ie/dataset/33ec9fe2-4957-4e9a-ab55-c5e917c7a9ab/resource/7987ddc8-674a-4368-b344-560804771b98/download/dublinbikes_20210101_20210401.csv\",\n",
    "    ),\n",
    "                        (\n",
    "        \"data/2021_Q2.csv\",\n",
    "        \"https://data.smartdublin.ie/dataset/33ec9fe2-4957-4e9a-ab55-c5e917c7a9ab/resource/1c18f219-3885-403e-aa55-4d4c78ee0204/download/dublinbikes_20210401_20210701.csv\",\n",
    "    ),\n",
    "                            (\n",
    "        \"data/2021_Q3.csv\",\n",
    "        \"https://data.smartdublin.ie/dataset/33ec9fe2-4957-4e9a-ab55-c5e917c7a9ab/resource/91ccfcb7-0c5b-41e4-be1b-e5d35c609638/download/dublinbikes_20210701_20211001.csv\",\n",
    "    ),\n",
    "                            (\n",
    "        \"data/2021_Q4.csv\",\n",
    "        \"https://data.smartdublin.ie/dataset/33ec9fe2-4957-4e9a-ab55-c5e917c7a9ab/resource/5bc73751-4280-4423-b64d-18f4cc17986d/download/dublinbikes_20211001_20220101.csv\",\n",
    "    ),\n",
    "]\n",
    "\n",
    "# \n",
    "for item in dataframes:\n",
    "    if os.path.exists(item[0]):\n",
    "        continue\n",
    "    print(f\"Downloading {item[0]} from {item[1]}\")\n",
    "    urllib.request.urlretrieve(item[1], item[0])\n",
    "    \n",
    "bikes_df = \"data/bikes.csv\"\n",
    "bikes_df = pd.concat([pd.read_csv(item[0]) for item in dataframes])   \n",
    "\n",
    "if not os.path.exists(\"data/bikes.csv\"):\n",
    "    bikes_df.to_csv(\"data/bikes.csv\", index=False)"
   ]
  },
  {
   "cell_type": "code",
   "execution_count": 4,
   "id": "9b577cc4",
   "metadata": {},
   "outputs": [
    {
     "data": {
      "text/html": [
       "<div>\n",
       "<style scoped>\n",
       "    .dataframe tbody tr th:only-of-type {\n",
       "        vertical-align: middle;\n",
       "    }\n",
       "\n",
       "    .dataframe tbody tr th {\n",
       "        vertical-align: top;\n",
       "    }\n",
       "\n",
       "    .dataframe thead th {\n",
       "        text-align: right;\n",
       "    }\n",
       "</style>\n",
       "<table border=\"1\" class=\"dataframe\">\n",
       "  <thead>\n",
       "    <tr style=\"text-align: right;\">\n",
       "      <th></th>\n",
       "      <th>STATION ID</th>\n",
       "      <th>TIME</th>\n",
       "      <th>LAST UPDATED</th>\n",
       "      <th>NAME</th>\n",
       "      <th>BIKE STANDS</th>\n",
       "      <th>AVAILABLE BIKE STANDS</th>\n",
       "      <th>AVAILABLE BIKES</th>\n",
       "      <th>STATUS</th>\n",
       "      <th>ADDRESS</th>\n",
       "      <th>LATITUDE</th>\n",
       "      <th>LONGITUDE</th>\n",
       "    </tr>\n",
       "  </thead>\n",
       "  <tbody>\n",
       "    <tr>\n",
       "      <th>2776080</th>\n",
       "      <td>507</td>\n",
       "      <td>2022-01-01 23:35:02</td>\n",
       "      <td>2021-11-18 07:11:16</td>\n",
       "      <td>ORIEL STREET TEST TERMINAL</td>\n",
       "      <td>1</td>\n",
       "      <td>0</td>\n",
       "      <td>1</td>\n",
       "      <td>Open</td>\n",
       "      <td>JCDecaux Ireland, 52 Oriel Street Lower, Dublin 1</td>\n",
       "      <td>53.35463</td>\n",
       "      <td>-6.242615</td>\n",
       "    </tr>\n",
       "    <tr>\n",
       "      <th>2776081</th>\n",
       "      <td>507</td>\n",
       "      <td>2022-01-01 23:40:02</td>\n",
       "      <td>2021-11-18 07:11:16</td>\n",
       "      <td>ORIEL STREET TEST TERMINAL</td>\n",
       "      <td>1</td>\n",
       "      <td>0</td>\n",
       "      <td>1</td>\n",
       "      <td>Open</td>\n",
       "      <td>JCDecaux Ireland, 52 Oriel Street Lower, Dublin 1</td>\n",
       "      <td>53.35463</td>\n",
       "      <td>-6.242615</td>\n",
       "    </tr>\n",
       "    <tr>\n",
       "      <th>2776082</th>\n",
       "      <td>507</td>\n",
       "      <td>2022-01-01 23:45:02</td>\n",
       "      <td>2021-11-18 07:11:16</td>\n",
       "      <td>ORIEL STREET TEST TERMINAL</td>\n",
       "      <td>1</td>\n",
       "      <td>0</td>\n",
       "      <td>1</td>\n",
       "      <td>Open</td>\n",
       "      <td>JCDecaux Ireland, 52 Oriel Street Lower, Dublin 1</td>\n",
       "      <td>53.35463</td>\n",
       "      <td>-6.242615</td>\n",
       "    </tr>\n",
       "    <tr>\n",
       "      <th>2776083</th>\n",
       "      <td>507</td>\n",
       "      <td>2022-01-01 23:50:02</td>\n",
       "      <td>2021-11-18 07:11:16</td>\n",
       "      <td>ORIEL STREET TEST TERMINAL</td>\n",
       "      <td>1</td>\n",
       "      <td>0</td>\n",
       "      <td>1</td>\n",
       "      <td>Open</td>\n",
       "      <td>JCDecaux Ireland, 52 Oriel Street Lower, Dublin 1</td>\n",
       "      <td>53.35463</td>\n",
       "      <td>-6.242615</td>\n",
       "    </tr>\n",
       "    <tr>\n",
       "      <th>2776084</th>\n",
       "      <td>507</td>\n",
       "      <td>2022-01-01 23:55:02</td>\n",
       "      <td>2021-11-18 07:11:16</td>\n",
       "      <td>ORIEL STREET TEST TERMINAL</td>\n",
       "      <td>1</td>\n",
       "      <td>0</td>\n",
       "      <td>1</td>\n",
       "      <td>Open</td>\n",
       "      <td>JCDecaux Ireland, 52 Oriel Street Lower, Dublin 1</td>\n",
       "      <td>53.35463</td>\n",
       "      <td>-6.242615</td>\n",
       "    </tr>\n",
       "  </tbody>\n",
       "</table>\n",
       "</div>"
      ],
      "text/plain": [
       "         STATION ID                 TIME         LAST UPDATED  \\\n",
       "2776080         507  2022-01-01 23:35:02  2021-11-18 07:11:16   \n",
       "2776081         507  2022-01-01 23:40:02  2021-11-18 07:11:16   \n",
       "2776082         507  2022-01-01 23:45:02  2021-11-18 07:11:16   \n",
       "2776083         507  2022-01-01 23:50:02  2021-11-18 07:11:16   \n",
       "2776084         507  2022-01-01 23:55:02  2021-11-18 07:11:16   \n",
       "\n",
       "                               NAME  BIKE STANDS  AVAILABLE BIKE STANDS  \\\n",
       "2776080  ORIEL STREET TEST TERMINAL            1                      0   \n",
       "2776081  ORIEL STREET TEST TERMINAL            1                      0   \n",
       "2776082  ORIEL STREET TEST TERMINAL            1                      0   \n",
       "2776083  ORIEL STREET TEST TERMINAL            1                      0   \n",
       "2776084  ORIEL STREET TEST TERMINAL            1                      0   \n",
       "\n",
       "         AVAILABLE BIKES STATUS  \\\n",
       "2776080                1   Open   \n",
       "2776081                1   Open   \n",
       "2776082                1   Open   \n",
       "2776083                1   Open   \n",
       "2776084                1   Open   \n",
       "\n",
       "                                                   ADDRESS  LATITUDE  \\\n",
       "2776080  JCDecaux Ireland, 52 Oriel Street Lower, Dublin 1  53.35463   \n",
       "2776081  JCDecaux Ireland, 52 Oriel Street Lower, Dublin 1  53.35463   \n",
       "2776082  JCDecaux Ireland, 52 Oriel Street Lower, Dublin 1  53.35463   \n",
       "2776083  JCDecaux Ireland, 52 Oriel Street Lower, Dublin 1  53.35463   \n",
       "2776084  JCDecaux Ireland, 52 Oriel Street Lower, Dublin 1  53.35463   \n",
       "\n",
       "         LONGITUDE  \n",
       "2776080  -6.242615  \n",
       "2776081  -6.242615  \n",
       "2776082  -6.242615  \n",
       "2776083  -6.242615  \n",
       "2776084  -6.242615  "
      ]
     },
     "execution_count": 4,
     "metadata": {},
     "output_type": "execute_result"
    }
   ],
   "source": [
    "bikes_df.tail()"
   ]
  },
  {
   "cell_type": "markdown",
   "id": "ae35b2d6",
   "metadata": {},
   "source": [
    "### 1.2 Get Weather Data\n",
    "\n",
    "Retrieve historical weather data for Phoinex Park Weather Station (175) on an hourly basis. Filtering to this choice on [Met Éireann's](https://www.met.ie/climate/available-data/historical-data) Irish Meteorological Society website is easy and gives the URL link used below. Note: hly is code for hourly and the hly175.csv file starts with 15 rows layiing out a key for the meaning of the abbreviated headers."
   ]
  },
  {
   "cell_type": "code",
   "execution_count": 5,
   "id": "d00c89c2",
   "metadata": {},
   "outputs": [
    {
     "name": "stderr",
     "output_type": "stream",
     "text": [
      "C:\\Users\\ronan\\AppData\\Local\\Temp\\ipykernel_10628\\165871317.py:11: DtypeWarning: Columns (2,4,6,7,8,9,10) have mixed types. Specify dtype option on import or set low_memory=False.\n",
      "  weather_df = pd.read_csv(\"data/hly175.csv\", skiprows=15)\n"
     ]
    }
   ],
   "source": [
    "       \n",
    "weather_df = \"data/hly175.csv\"    \n",
    "        \n",
    "def retrieve_weather():\n",
    "    weather_url = \"http://cli.fusio.net/cli/climate_data/webdata/hly175.csv\"\n",
    "    urllib.request.urlretrieve(weather_url, weather_df)\n",
    "    #Conditionally calls  retrieval functions if CSVs are not in place in the\"data\" directory\n",
    "    \n",
    "if not os.path.exists(weather_df):\n",
    "    retrieve_weather()\n",
    "    \n",
    "weather_df = pd.read_csv(\"data/hly175.csv\", skiprows=15)   \n",
    "if not os.path.exists(\"data/weather.csv\"):\n",
    "    weather_df.to_csv(\"data/weather.csv\", index=False)\n",
    "    "
   ]
  },
  {
   "cell_type": "code",
   "execution_count": 6,
   "id": "54cca17c",
   "metadata": {},
   "outputs": [
    {
     "data": {
      "text/plain": [
       "(168408, 11)"
      ]
     },
     "execution_count": 6,
     "metadata": {},
     "output_type": "execute_result"
    }
   ],
   "source": [
    "weather_df.shape\n"
   ]
  },
  {
   "cell_type": "markdown",
   "id": "2b8f175c",
   "metadata": {},
   "source": [
    "### 1.3 Get Dublin Bike Stations GPS Co-ords\n",
    "\n",
    "Retrieves the Dublin Bikes Station GPS data from   [Smart Dublin](https://data.smartdublin.ie/dataset/dublinbikes-api) website."
   ]
  },
  {
   "cell_type": "code",
   "execution_count": 7,
   "id": "0d61b268",
   "metadata": {},
   "outputs": [
    {
     "data": {
      "text/plain": [
       "(110, 5)"
      ]
     },
     "execution_count": 7,
     "metadata": {},
     "output_type": "execute_result"
    }
   ],
   "source": [
    "dublin_df =\"data/dublin.csv\"\n",
    "        \n",
    "def retrieve_gps():\n",
    "    gps_url = \"https://data.smartdublin.ie/dataset/33ec9fe2-4957-4e9a-ab55-c5e917c7a9ab/resource/2dec86ed-76ed-47a3-ae28-646db5c5b965/download/dublin.csv\"\n",
    "    urllib.request.urlretrieve(gps_url, dublin_df) \n",
    "    \n",
    "    \n",
    "if not os.path.exists(dublin_df):\n",
    "    retrieve_gps()                  #Conditionally retrievs gps CSVs if not in \"data\" directory\n",
    "    \n",
    "dublin_df = pd.read_csv(\"data/dublin.csv\")   \n",
    "if not os.path.exists(\"data/dublin.csv\"):\n",
    "    gps_df.to_csv(\"data/dublin.csv\", index=False)\n",
    "    \n",
    "dublin_df.shape"
   ]
  },
  {
   "cell_type": "code",
   "execution_count": 8,
   "id": "9e23a431",
   "metadata": {},
   "outputs": [],
   "source": [
    "# close down dataframes saving  memory\n",
    "\n",
    "bikes_df = None\n",
    "weather_df = None\n",
    "gps_df= None"
   ]
  }
 ],
 "metadata": {
  "kernelspec": {
   "display_name": "Python 3 (ipykernel)",
   "language": "python",
   "name": "python3"
  },
  "language_info": {
   "codemirror_mode": {
    "name": "ipython",
    "version": 3
   },
   "file_extension": ".py",
   "mimetype": "text/x-python",
   "name": "python",
   "nbconvert_exporter": "python",
   "pygments_lexer": "ipython3",
   "version": "3.9.12"
  }
 },
 "nbformat": 4,
 "nbformat_minor": 5
}
