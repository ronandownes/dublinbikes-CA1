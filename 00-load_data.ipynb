{
 "cells": [
  {
   "cell_type": "markdown",
   "id": "0291b4be",
   "metadata": {},
   "source": [
    "# Dublin Bike CA 1\n",
    "\n",
    "Ronan Downes | [Github](https://github.com/ronandownes/dublinbikes-CA1) | November 2022 \n",
    "***"
   ]
  },
  {
   "cell_type": "markdown",
   "id": "f0a45ca5",
   "metadata": {},
   "source": [
    "\n",
    "## 00-load_data\n",
    "Loads Bike and Dock dataset 2019.\n",
    "Downloads  quarterly  Dublin Bike csv files directly from the web [Smart Dublin](https://data.smartdublin.ie/dataset/dublinbikes-api) and the  Phoinex Park (station 175) weather data recorded hourly by the Irish Meteorological Society website. The original file is hly175.csv The datasets is freely provided on the [Met Éireann](https://www.met.ie/climate/available-data/historical-data) websites.\n",
    "Bike-Sharing and weather filename and formats along with pandas dataframes  are defined for you along with a  data directory saving on project size and errors.\n",
    "***"
   ]
  },
  {
   "cell_type": "code",
   "execution_count": 1,
   "id": "4eb61e13",
   "metadata": {},
   "outputs": [],
   "source": [
    "#Setup and libraries leveraged\n",
    "\n",
    "import pandas as pd\n",
    "import urllib\n",
    "import os"
   ]
  },
  {
   "cell_type": "code",
   "execution_count": 2,
   "id": "8c6cae99",
   "metadata": {},
   "outputs": [],
   "source": [
    "if not os.path.exists(\"data\"):\n",
    "    os.makedirs(\"data\")\n",
    "\n",
    "bikes_df = \"data/bikes.csv\"\n",
    "# weather_df = \"data/hly175.csv\"\n",
    "weather_df = \"data/weather.csv\""
   ]
  },
  {
   "cell_type": "code",
   "execution_count": 3,
   "id": "4ae0e05b",
   "metadata": {},
   "outputs": [],
   "source": [
    " ### Defines a list of tuples with ordered pairs of filenames and retrieval urls. \n",
    "    \n",
    "dataframes = [\n",
    "    (\n",
    "        \"data/dublinbikes_20190101_20190401.csv\",\n",
    "        \"https://data.smartdublin.ie/dataset/33ec9fe2-4957-4e9a-ab55-c5e917c7a9ab/resource/538165d7-535e-4e1d-909a-1c1bfae901c5/download/dublinbikes_20190101_20190401.csv\",\n",
    "    ),\n",
    "    (\n",
    "        \"data/dublinbikes_20190401_20190701.csv\",\n",
    "        \"https://data.smartdublin.ie/dataset/33ec9fe2-4957-4e9a-ab55-c5e917c7a9ab/resource/76fdda3d-d8be-441b-92dd-0ee36d9c5316/download/dublinbikes_20190401_20190701.csv\",\n",
    "    ),\n",
    "    (\n",
    "        \"data/dublinbikes_20190701_20191001.csv\",\n",
    "        \"https://data.smartdublin.ie/dataset/33ec9fe2-4957-4e9a-ab55-c5e917c7a9ab/resource/305d39ac-b6a0-4216-a535-0ae2ddf59819/download/dublinbikes_20190701_20191001.csv\",\n",
    "    ),\n",
    "    (\n",
    "        \"data/dublinbikes_20191001_20200101.csv\",\n",
    "        \"https://data.smartdublin.ie/dataset/33ec9fe2-4957-4e9a-ab55-c5e917c7a9ab/resource/5d23332e-4f49-4c41-b6a0-bffb77b33d64/download/dublinbikes_20191001_20200101.csv\",\n",
    "    ),\n",
    "            (\n",
    "        \"data/dublinbikes_20200101_20200401.csv\",\n",
    "        \"https://data.smartdublin.ie/dataset/33ec9fe2-4957-4e9a-ab55-c5e917c7a9ab/resource/aab12e7d-547f-463a-86b1-e22002884587/download/dublinbikes_20200101_20200401.csv\",\n",
    "    ),\n",
    "]\n",
    "bikes_df = \"data/bikes.csv\"\n",
    "weather_df = \"data/hly175.csv\""
   ]
  },
  {
   "cell_type": "code",
   "execution_count": null,
   "id": "d00c89c2",
   "metadata": {},
   "outputs": [],
   "source": [
    "# Retrieve data functions for historical weather data from the Irish Meteorological Society websites \n",
    "for item in dataframes:\n",
    "    if os.path.exists(item[0]):\n",
    "        continue\n",
    "    print(f\"Downloading {item[0]} from {item[1]}\")\n",
    "    urllib.request.urlretrieve(item[1], item[0])\n",
    "    \n",
    "def retrieve_weather():\n",
    "    weather_url = \"http://cli.fusio.net/cli/climate_data/webdata/hly175.csv\"\n",
    "    urllib.request.urlretrieve(weather_url, weather_df)\n",
    "    #Conditionally calls  retrieval functions if CSVs are not in place in the\"data\" directory\n",
    "    \n",
    "if not os.path.exists(weather_df):\n",
    "    retrieve_weather()"
   ]
  },
  {
   "cell_type": "code",
   "execution_count": 5,
   "id": "ec8faa44",
   "metadata": {},
   "outputs": [
    {
     "name": "stderr",
     "output_type": "stream",
     "text": [
      "C:\\Users\\ronan\\AppData\\Local\\Temp\\ipykernel_2400\\2844483953.py:4: DtypeWarning: Columns (2,4,6,7,8,9,10) have mixed types. Specify dtype option on import or set low_memory=False.\n",
      "  weather_df = pd.read_csv(\"data/hly175.csv\", skiprows=15)\n"
     ]
    }
   ],
   "source": [
    "# Read and concatenate quarterly bike data dataframes from  \n",
    "# Phoinex Park weather data from the Irish Meteorological Society website\n",
    "bikes_df = \"data/bikes.csv\"\n",
    "weather_df = pd.read_csv(\"data/hly175.csv\", skiprows=15)\n",
    "bikes_df = pd.concat([pd.read_csv(item[0]) for item in dataframes])\n",
    "\n",
    "if not os.path.exists(\"data/bikes.csv\"):\n",
    "    bikes_df.to_csv(\"data/bikes.csv\", index=False)\n",
    "    \n",
    "if not os.path.exists(\"data/weather.csv\"):\n",
    "    weather_df.to_csv(\"data/weather.csv\", index=False)"
   ]
  },
  {
   "cell_type": "code",
   "execution_count": null,
   "id": "47bc4b60",
   "metadata": {},
   "outputs": [],
   "source": [
    "bikes_df.sample(11)"
   ]
  },
  {
   "cell_type": "code",
   "execution_count": null,
   "id": "df422b41",
   "metadata": {},
   "outputs": [],
   "source": [
    "weather_df.head(11)"
   ]
  },
  {
   "cell_type": "code",
   "execution_count": null,
   "id": "9e23a431",
   "metadata": {},
   "outputs": [],
   "source": [
    "# close both dataframes\n",
    "\n",
    "bikes_df = None\n",
    "weather_df = None"
   ]
  }
 ],
 "metadata": {
  "kernelspec": {
   "display_name": "Python 3 (ipykernel)",
   "language": "python",
   "name": "python3"
  },
  "language_info": {
   "codemirror_mode": {
    "name": "ipython",
    "version": 3
   },
   "file_extension": ".py",
   "mimetype": "text/x-python",
   "name": "python",
   "nbconvert_exporter": "python",
   "pygments_lexer": "ipython3",
   "version": "3.9.12"
  }
 },
 "nbformat": 4,
 "nbformat_minor": 5
}
