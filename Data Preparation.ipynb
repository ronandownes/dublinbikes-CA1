{
 "cells": [
  {
   "cell_type": "markdown",
   "id": "0291b4be",
   "metadata": {},
   "source": [
    "# Dublin Bike Sharing\n",
    "\n",
    "Ronan Downes | [Github](https://github.com/ronandownes/dublinbikes-CA1) | November 2022 \n",
    "***"
   ]
  },
  {
   "cell_type": "markdown",
   "id": "f0a45ca5",
   "metadata": {},
   "source": [
    "\n",
    "# Loads Bike and Dock dataset 2019\n",
    "Downloads  quarterly  Dublin Bike csv files directly from the web.  The datasets are freely provided by the [Smart Dublin](https://data.smartdublin.ie/dataset/dublinbikes-api).  \n",
    "***"
   ]
  },
  {
   "cell_type": "code",
   "execution_count": 1,
   "id": "5db3cb11",
   "metadata": {},
   "outputs": [],
   "source": [
    "#Makes a data directory  and imports libraries\n",
    "\n",
    "import pandas as pd\n",
    "import numpy as np\n",
    "import warnings\n",
    "import time\n",
    "import datetime as dt\n",
    "warnings.filterwarnings('ignore')\n",
    "import matplotlib.pyplot as plt\n",
    "import urllib\n",
    "import folium\n",
    "#import sklearn\n",
    "import seaborn as sns\n",
    "import os\n",
    "#from sklearn.model_selection import train_test_split\n",
    "from matplotlib import pyplot as plt\n",
    "#from sklearn.cluster import KMeans\n",
    "# from matplotlib import inline\n",
    "from ipywidgets import interact, interact_manual\n",
    "\n",
    "\n",
    "if not os.path.exists(\"data\"):\n",
    "    os.makedirs(\"data\")"
   ]
  },
  {
   "cell_type": "markdown",
   "id": "1648abd1",
   "metadata": {},
   "source": [
    "## Loading Bike and Dock occupancy data"
   ]
  },
  {
   "cell_type": "code",
   "execution_count": 2,
   "id": "4ae0e05b",
   "metadata": {},
   "outputs": [],
   "source": [
    "\n",
    " ### Defines a list of tuples with ordered pairs of filenames and retrieval urls. \n",
    "    \n",
    "dataframes = [\n",
    "    (\n",
    "        \"data/dublinbikes_20190101_20190401.csv\",\n",
    "        \"https://data.smartdublin.ie/dataset/33ec9fe2-4957-4e9a-ab55-c5e917c7a9ab/resource/538165d7-535e-4e1d-909a-1c1bfae901c5/download/dublinbikes_20190101_20190401.csv\",\n",
    "    ),\n",
    "    (\n",
    "        \"data/dublinbikes_20190401_20190701.csv\",\n",
    "        \"https://data.smartdublin.ie/dataset/33ec9fe2-4957-4e9a-ab55-c5e917c7a9ab/resource/76fdda3d-d8be-441b-92dd-0ee36d9c5316/download/dublinbikes_20190401_20190701.csv\",\n",
    "    ),\n",
    "    (\n",
    "        \"data/dublinbikes_20190701_20191001.csv\",\n",
    "        \"https://data.smartdublin.ie/dataset/33ec9fe2-4957-4e9a-ab55-c5e917c7a9ab/resource/305d39ac-b6a0-4216-a535-0ae2ddf59819/download/dublinbikes_20190701_20191001.csv\",\n",
    "    ),\n",
    "    (\n",
    "        \"data/dublinbikes_20191001_20200101.csv\",\n",
    "        \"https://data.smartdublin.ie/dataset/33ec9fe2-4957-4e9a-ab55-c5e917c7a9ab/resource/5d23332e-4f49-4c41-b6a0-bffb77b33d64/download/dublinbikes_20191001_20200101.csv\",\n",
    "    ),\n",
    "        (\n",
    "        \"data/dublinbikes_20200101_20200401.csv\",\n",
    "        \"https://data.smartdublin.ie/dataset/33ec9fe2-4957-4e9a-ab55-c5e917c7a9ab/resource/aab12e7d-547f-463a-86b1-e22002884587/download/dublinbikes_20200101_20200401.csv\",\n",
    "    ),\n",
    "]"
   ]
  },
  {
   "cell_type": "markdown",
   "id": "c5072ac5",
   "metadata": {},
   "source": [
    "## Define the names and locations of the consolidated Bike and Dock availability csv and the weather csv."
   ]
  },
  {
   "cell_type": "code",
   "execution_count": 3,
   "id": "abec9cf7",
   "metadata": {},
   "outputs": [],
   "source": [
    "bikes_df = \"data/bikes.csv\"\n",
    "weather_df = \"data/weather.csv\""
   ]
  },
  {
   "cell_type": "code",
   "execution_count": 4,
   "id": "bcaef31f",
   "metadata": {},
   "outputs": [
    {
     "name": "stdout",
     "output_type": "stream",
     "text": [
      "Downloading data/dublinbikes_20200101_20200401.csv from https://data.smartdublin.ie/dataset/33ec9fe2-4957-4e9a-ab55-c5e917c7a9ab/resource/aab12e7d-547f-463a-86b1-e22002884587/download/dublinbikes_20200101_20200401.csv\n"
     ]
    }
   ],
   "source": [
    "# Retrieve data functions for historical weather data from the Irish Meteorological Society websites \n",
    "for item in dataframes:\n",
    "    if os.path.exists(item[0]):\n",
    "        continue\n",
    "    print(f\"Downloading {item[0]} from {item[1]}\")\n",
    "    urllib.request.urlretrieve(item[1], item[0])\n",
    "    \n",
    "def retrieve_weather():\n",
    "    weather_url = \"http://cli.fusio.net/cli/climate_data/webdata/hly175.csv\"\n",
    "    urllib.request.urlretrieve(weather_url, weather_df)\n",
    "    \n",
    "    #Conditionally calls  retrieval functions if CSVs are not in place in the\"data\" directory\n",
    "    # The file is called HLY175 because data points are recorded hourly \n",
    "    # and Phoenix park is station 175\n",
    "    \n",
    "if not os.path.exists(weather_df):\n",
    "    retrieve_weather()"
   ]
  },
  {
   "cell_type": "code",
   "execution_count": 5,
   "id": "d00c89c2",
   "metadata": {},
   "outputs": [],
   "source": [
    "#Conditionally calls  weather retrieval function\n",
    "if not os.path.exists(weather_df):\n",
    "    retrieve_weather()"
   ]
  },
  {
   "cell_type": "code",
   "execution_count": 6,
   "id": "fb3f6b1e",
   "metadata": {},
   "outputs": [],
   "source": [
    "# Read and concatenate quarterly bike data  \n",
    "# Read  Phoinex Park (station 175) weather data from the Irish Meteorological Society website on an hourly basis. Original file is hly175.csv\n",
    "bikes_df = \"data/bikes.csv\"\n",
    "weather_df = pd.read_csv(\"data/weather.csv\", skiprows=15)\n",
    "bikes_df = pd.concat([pd.read_csv(item[0]) for item in dataframes])\n",
    "\n",
    "if not os.path.exists(\"data/bikes.csv\"):\n",
    "    bikes_df.to_csv(\"data/bikes.csv\", index=False)\n",
    "    \n",
    "    \n",
    "if not os.path.exists(\"data/weather.csv\"):\n",
    "    weather_df.to_csv(\"data/weather.csv\", index=False)    "
   ]
  },
  {
   "cell_type": "code",
   "execution_count": 7,
   "id": "47bc4b60",
   "metadata": {},
   "outputs": [
    {
     "data": {
      "text/html": [
       "<div>\n",
       "<style scoped>\n",
       "    .dataframe tbody tr th:only-of-type {\n",
       "        vertical-align: middle;\n",
       "    }\n",
       "\n",
       "    .dataframe tbody tr th {\n",
       "        vertical-align: top;\n",
       "    }\n",
       "\n",
       "    .dataframe thead th {\n",
       "        text-align: right;\n",
       "    }\n",
       "</style>\n",
       "<table border=\"1\" class=\"dataframe\">\n",
       "  <thead>\n",
       "    <tr style=\"text-align: right;\">\n",
       "      <th></th>\n",
       "      <th>STATION ID</th>\n",
       "      <th>TIME</th>\n",
       "      <th>LAST UPDATED</th>\n",
       "      <th>NAME</th>\n",
       "      <th>BIKE STANDS</th>\n",
       "      <th>AVAILABLE BIKE STANDS</th>\n",
       "      <th>AVAILABLE BIKES</th>\n",
       "      <th>STATUS</th>\n",
       "      <th>ADDRESS</th>\n",
       "      <th>LATITUDE</th>\n",
       "      <th>LONGITUDE</th>\n",
       "    </tr>\n",
       "  </thead>\n",
       "  <tbody>\n",
       "    <tr>\n",
       "      <th>2228273</th>\n",
       "      <td>117</td>\n",
       "      <td>2020-04-01 23:35:02</td>\n",
       "      <td>2020-04-01 23:32:46</td>\n",
       "      <td>HANOVER QUAY EAST</td>\n",
       "      <td>40</td>\n",
       "      <td>37</td>\n",
       "      <td>3</td>\n",
       "      <td>Open</td>\n",
       "      <td>Hanover Quay East</td>\n",
       "      <td>53.343655</td>\n",
       "      <td>-6.231755</td>\n",
       "    </tr>\n",
       "    <tr>\n",
       "      <th>2228274</th>\n",
       "      <td>117</td>\n",
       "      <td>2020-04-01 23:40:02</td>\n",
       "      <td>2020-04-01 23:32:46</td>\n",
       "      <td>HANOVER QUAY EAST</td>\n",
       "      <td>40</td>\n",
       "      <td>37</td>\n",
       "      <td>3</td>\n",
       "      <td>Open</td>\n",
       "      <td>Hanover Quay East</td>\n",
       "      <td>53.343655</td>\n",
       "      <td>-6.231755</td>\n",
       "    </tr>\n",
       "    <tr>\n",
       "      <th>2228275</th>\n",
       "      <td>117</td>\n",
       "      <td>2020-04-01 23:45:02</td>\n",
       "      <td>2020-04-01 23:42:54</td>\n",
       "      <td>HANOVER QUAY EAST</td>\n",
       "      <td>40</td>\n",
       "      <td>37</td>\n",
       "      <td>3</td>\n",
       "      <td>Open</td>\n",
       "      <td>Hanover Quay East</td>\n",
       "      <td>53.343655</td>\n",
       "      <td>-6.231755</td>\n",
       "    </tr>\n",
       "    <tr>\n",
       "      <th>2228276</th>\n",
       "      <td>117</td>\n",
       "      <td>2020-04-01 23:50:03</td>\n",
       "      <td>2020-04-01 23:42:54</td>\n",
       "      <td>HANOVER QUAY EAST</td>\n",
       "      <td>40</td>\n",
       "      <td>37</td>\n",
       "      <td>3</td>\n",
       "      <td>Open</td>\n",
       "      <td>Hanover Quay East</td>\n",
       "      <td>53.343655</td>\n",
       "      <td>-6.231755</td>\n",
       "    </tr>\n",
       "    <tr>\n",
       "      <th>2228277</th>\n",
       "      <td>117</td>\n",
       "      <td>2020-04-01 23:55:02</td>\n",
       "      <td>2020-04-01 23:53:01</td>\n",
       "      <td>HANOVER QUAY EAST</td>\n",
       "      <td>40</td>\n",
       "      <td>37</td>\n",
       "      <td>3</td>\n",
       "      <td>Open</td>\n",
       "      <td>Hanover Quay East</td>\n",
       "      <td>53.343655</td>\n",
       "      <td>-6.231755</td>\n",
       "    </tr>\n",
       "  </tbody>\n",
       "</table>\n",
       "</div>"
      ],
      "text/plain": [
       "         STATION ID                 TIME         LAST UPDATED  \\\n",
       "2228273         117  2020-04-01 23:35:02  2020-04-01 23:32:46   \n",
       "2228274         117  2020-04-01 23:40:02  2020-04-01 23:32:46   \n",
       "2228275         117  2020-04-01 23:45:02  2020-04-01 23:42:54   \n",
       "2228276         117  2020-04-01 23:50:03  2020-04-01 23:42:54   \n",
       "2228277         117  2020-04-01 23:55:02  2020-04-01 23:53:01   \n",
       "\n",
       "                      NAME  BIKE STANDS  AVAILABLE BIKE STANDS  \\\n",
       "2228273  HANOVER QUAY EAST           40                     37   \n",
       "2228274  HANOVER QUAY EAST           40                     37   \n",
       "2228275  HANOVER QUAY EAST           40                     37   \n",
       "2228276  HANOVER QUAY EAST           40                     37   \n",
       "2228277  HANOVER QUAY EAST           40                     37   \n",
       "\n",
       "         AVAILABLE BIKES STATUS            ADDRESS   LATITUDE  LONGITUDE  \n",
       "2228273                3   Open  Hanover Quay East  53.343655  -6.231755  \n",
       "2228274                3   Open  Hanover Quay East  53.343655  -6.231755  \n",
       "2228275                3   Open  Hanover Quay East  53.343655  -6.231755  \n",
       "2228276                3   Open  Hanover Quay East  53.343655  -6.231755  \n",
       "2228277                3   Open  Hanover Quay East  53.343655  -6.231755  "
      ]
     },
     "execution_count": 7,
     "metadata": {},
     "output_type": "execute_result"
    }
   ],
   "source": [
    "bikes_df.tail(5)"
   ]
  },
  {
   "cell_type": "code",
   "execution_count": 8,
   "id": "9e23a431",
   "metadata": {},
   "outputs": [],
   "source": [
    "# close both dataframes\n",
    "\n",
    "bikes_df = None\n",
    "weather_df = None"
   ]
  }
 ],
 "metadata": {
  "kernelspec": {
   "display_name": "Python 3 (ipykernel)",
   "language": "python",
   "name": "python3"
  },
  "language_info": {
   "codemirror_mode": {
    "name": "ipython",
    "version": 3
   },
   "file_extension": ".py",
   "mimetype": "text/x-python",
   "name": "python",
   "nbconvert_exporter": "python",
   "pygments_lexer": "ipython3",
   "version": "3.9.12"
  }
 },
 "nbformat": 4,
 "nbformat_minor": 5
}
