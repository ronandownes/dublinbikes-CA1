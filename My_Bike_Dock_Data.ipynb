{
 "cells": [
  {
   "cell_type": "markdown",
   "id": "f0a45ca5",
   "metadata": {},
   "source": [
    "# Loads Bike and Dock dataset 2019\n",
    "This notebook downloads and consolidates a years worth of the Dublin Bike  bike and dock availability in quarterly csv files. Data points are recorded every 10 minutes and the four files are consolidated into a single csv file. The datasets are freely provided by the [Smart Dublin](https://data.smartdublin.ie/dataset/dublinbikes-api).  "
   ]
  },
  {
   "cell_type": "code",
   "execution_count": 2,
   "id": "5db3cb11",
   "metadata": {},
   "outputs": [],
   "source": [
    "#Setup and common libraries\n",
    "\n",
    "import pandas as pd\n",
    "import numpy as np\n",
    "import warnings\n",
    "import time\n",
    "import datetime as dt\n",
    "warnings.filterwarnings('ignore')\n",
    "import matplotlib.pyplot as plt\n",
    "import urllib\n",
    "import folium\n",
    "#import sklearn\n",
    "import seaborn as sns\n",
    "import os\n",
    "#from sklearn.model_selection import train_test_split\n",
    "from matplotlib import pyplot as plt\n",
    "#from sklearn.cluster import KMeans\n",
    "# from matplotlib import inline\n",
    "from ipywidgets import interact, interact_manual"
   ]
  },
  {
   "cell_type": "markdown",
   "id": "1648abd1",
   "metadata": {},
   "source": [
    "## Defines a list of tuples with ordered pairs of filenames and retrieval urls. Dublin Bikes provide their data on a quarterly basis"
   ]
  },
  {
   "cell_type": "code",
   "execution_count": 3,
   "id": "4ae0e05b",
   "metadata": {},
   "outputs": [],
   "source": [
    "\n",
    "if not os.path.exists(\"data\"):\n",
    "    os.makedirs(\"data\")\n",
    "    \n",
    "dataframes = [\n",
    "    (\n",
    "        \"data/dublinbikes_20190101_20190401.csv\",\n",
    "        \"https://data.smartdublin.ie/dataset/33ec9fe2-4957-4e9a-ab55-c5e917c7a9ab/resource/538165d7-535e-4e1d-909a-1c1bfae901c5/download/dublinbikes_20190101_20190401.csv\",\n",
    "    ),\n",
    "    (\n",
    "        \"data/dublinbikes_20190401_20190701.csv\",\n",
    "        \"https://data.smartdublin.ie/dataset/33ec9fe2-4957-4e9a-ab55-c5e917c7a9ab/resource/76fdda3d-d8be-441b-92dd-0ee36d9c5316/download/dublinbikes_20190401_20190701.csv\",\n",
    "    ),\n",
    "    (\n",
    "        \"data/dublinbikes_20190701_20191001.csv\",\n",
    "        \"https://data.smartdublin.ie/dataset/33ec9fe2-4957-4e9a-ab55-c5e917c7a9ab/resource/305d39ac-b6a0-4216-a535-0ae2ddf59819/download/dublinbikes_20190701_20191001.csv\",\n",
    "    ),\n",
    "    (\n",
    "        \"data/dublinbikes_20191001_20200101.csv\",\n",
    "        \"https://data.smartdublin.ie/dataset/33ec9fe2-4957-4e9a-ab55-c5e917c7a9ab/resource/5d23332e-4f49-4c41-b6a0-bffb77b33d64/download/dublinbikes_20191001_20200101.csv\",\n",
    "    ),\n",
    "]"
   ]
  },
  {
   "cell_type": "markdown",
   "id": "c5072ac5",
   "metadata": {},
   "source": [
    "## Define the names and locations of the consolidated Bike and Dock availability csv and the weather csv."
   ]
  },
  {
   "cell_type": "code",
   "execution_count": 4,
   "id": "abec9cf7",
   "metadata": {},
   "outputs": [],
   "source": [
    "bikes_df = \"data/bikes.csv\"\n",
    "weather_df = \"data/weather.csv\""
   ]
  },
  {
   "cell_type": "code",
   "execution_count": 9,
   "id": "bcaef31f",
   "metadata": {},
   "outputs": [
    {
     "ename": "TypeError",
     "evalue": "stat: path should be string, bytes, os.PathLike or integer, not DataFrame",
     "output_type": "error",
     "traceback": [
      "\u001b[1;31m---------------------------------------------------------------------------\u001b[0m",
      "\u001b[1;31mTypeError\u001b[0m                                 Traceback (most recent call last)",
      "Input \u001b[1;32mIn [9]\u001b[0m, in \u001b[0;36m<cell line: 16>\u001b[1;34m()\u001b[0m\n\u001b[0;32m     10\u001b[0m     urllib\u001b[38;5;241m.\u001b[39mrequest\u001b[38;5;241m.\u001b[39murlretrieve(weather_url, weather_df)\n\u001b[0;32m     12\u001b[0m     \u001b[38;5;66;03m#Conditionally calls  retrieval functions if CSVs are not in place in the\"data\" directory\u001b[39;00m\n\u001b[0;32m     13\u001b[0m     \u001b[38;5;66;03m# The file is called HLY175 because data points are recorded hourly \u001b[39;00m\n\u001b[0;32m     14\u001b[0m     \u001b[38;5;66;03m# and Phoenix park is station 175\u001b[39;00m\n\u001b[1;32m---> 16\u001b[0m \u001b[38;5;28;01mif\u001b[39;00m \u001b[38;5;129;01mnot\u001b[39;00m \u001b[43mos\u001b[49m\u001b[38;5;241;43m.\u001b[39;49m\u001b[43mpath\u001b[49m\u001b[38;5;241;43m.\u001b[39;49m\u001b[43mexists\u001b[49m\u001b[43m(\u001b[49m\u001b[43mweather_df\u001b[49m\u001b[43m)\u001b[49m:\n\u001b[0;32m     17\u001b[0m     retrieve_weather()\n",
      "File \u001b[1;32m~\\Downloads\\Anaconda-May2022\\lib\\genericpath.py:19\u001b[0m, in \u001b[0;36mexists\u001b[1;34m(path)\u001b[0m\n\u001b[0;32m     17\u001b[0m \u001b[38;5;124;03m\"\"\"Test whether a path exists.  Returns False for broken symbolic links\"\"\"\u001b[39;00m\n\u001b[0;32m     18\u001b[0m \u001b[38;5;28;01mtry\u001b[39;00m:\n\u001b[1;32m---> 19\u001b[0m     \u001b[43mos\u001b[49m\u001b[38;5;241;43m.\u001b[39;49m\u001b[43mstat\u001b[49m\u001b[43m(\u001b[49m\u001b[43mpath\u001b[49m\u001b[43m)\u001b[49m\n\u001b[0;32m     20\u001b[0m \u001b[38;5;28;01mexcept\u001b[39;00m (\u001b[38;5;167;01mOSError\u001b[39;00m, \u001b[38;5;167;01mValueError\u001b[39;00m):\n\u001b[0;32m     21\u001b[0m     \u001b[38;5;28;01mreturn\u001b[39;00m \u001b[38;5;28;01mFalse\u001b[39;00m\n",
      "\u001b[1;31mTypeError\u001b[0m: stat: path should be string, bytes, os.PathLike or integer, not DataFrame"
     ]
    }
   ],
   "source": [
    "# Retrieve data functions for historical weather data from the Irish Meteorological Society websites \n",
    "for item in dataframes:\n",
    "    if os.path.exists(item[0]):\n",
    "        continue\n",
    "    print(f\"Downloading {item[0]} from {item[1]}\")\n",
    "    urllib.request.urlretrieve(item[1], item[0])\n",
    "    \n",
    "def retrieve_weather():\n",
    "    weather_url = \"http://cli.fusio.net/cli/climate_data/webdata/hly175.csv\"\n",
    "    urllib.request.urlretrieve(weather_url, weather_df)\n",
    "    \n",
    "    #Conditionally calls  retrieval functions if CSVs are not in place in the\"data\" directory\n",
    "    # The file is called HLY175 because data points are recorded hourly \n",
    "    # and Phoenix park is station 175\n",
    "    \n",
    "if not os.path.exists(weather_df):\n",
    "    retrieve_weather()"
   ]
  },
  {
   "cell_type": "code",
   "execution_count": 6,
   "id": "d00c89c2",
   "metadata": {},
   "outputs": [],
   "source": [
    "#Conditionally calls  weather retrieval function\n",
    "if not os.path.exists(weather_df):\n",
    "    retrieve_weather()"
   ]
  },
  {
   "cell_type": "code",
   "execution_count": 7,
   "id": "fb3f6b1e",
   "metadata": {},
   "outputs": [],
   "source": [
    "# Read and concatenate quarterly bike data  \n",
    "# Read  Phoinex Park (station 175) weather data from the Irish Meteorological Society website on an hourly basis. Original file is hly175.csv\n",
    "bikes_df = \"data/bikes.csv\"\n",
    "weather_df = pd.read_csv(\"data/weather.csv\", skiprows=15)\n",
    "bikes_df = pd.concat([pd.read_csv(item[0]) for item in dataframes])\n",
    "\n",
    "if not os.path.exists(\"data/bikes.csv\"):\n",
    "    bikes_df.to_csv(\"data/bikes.csv\", index=False)\n",
    "    \n",
    "    \n",
    "if not os.path.exists(\"data/weather.csv\"):\n",
    "    weather_df.to_csv(\"data/weather.csv\", index=False)    "
   ]
  },
  {
   "cell_type": "code",
   "execution_count": 8,
   "id": "9e23a431",
   "metadata": {},
   "outputs": [],
   "source": [
    "# close both dataframes\n",
    "\n",
    "bikes_df = None\n",
    "weather_df = None"
   ]
  }
 ],
 "metadata": {
  "kernelspec": {
   "display_name": "Python 3 (ipykernel)",
   "language": "python",
   "name": "python3"
  },
  "language_info": {
   "codemirror_mode": {
    "name": "ipython",
    "version": 3
   },
   "file_extension": ".py",
   "mimetype": "text/x-python",
   "name": "python",
   "nbconvert_exporter": "python",
   "pygments_lexer": "ipython3",
   "version": "3.9.12"
  }
 },
 "nbformat": 4,
 "nbformat_minor": 5
}
